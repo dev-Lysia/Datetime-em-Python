{
 "cells": [
  {
   "cell_type": "markdown",
   "metadata": {},
   "source": [
    "# Cartilha Trabalhando com datas e tempo no Python\n",
    "## Biblioteca:datetime"
   ]
  },
  {
   "cell_type": "markdown",
   "metadata": {},
   "source": [
    "### Documentação:"
   ]
  },
  {
   "cell_type": "markdown",
   "metadata": {},
   "source": [
    "link: https://docs.python.org/3/library/datetime.html"
   ]
  },
  {
   "cell_type": "markdown",
   "metadata": {},
   "source": [
    "### Importação:"
   ]
  },
  {
   "cell_type": "code",
   "execution_count": 2,
   "metadata": {},
   "outputs": [],
   "source": [
    "import datetime "
   ]
  },
  {
   "cell_type": "markdown",
   "metadata": {},
   "source": [
    "### Principais Classes:"
   ]
  },
  {
   "cell_type": "markdown",
   "metadata": {},
   "source": [
    "datetime.date - submódulo dedicado para datas;<br>\n",
    "datetime.time - submódulo dedicado para tempo;<br>\n",
    "datetime.datetime -submódulo dedicado para quando temos tanto tempo como data juntos;<br>\n",
    "datetime.timedelta - usado quando o objetivo é saber a diferença entre períodos de tempo distintos;"
   ]
  },
  {
   "cell_type": "markdown",
   "metadata": {},
   "source": [
    "## datetime.date:"
   ]
  },
  {
   "cell_type": "code",
   "execution_count": 17,
   "metadata": {},
   "outputs": [
    {
     "name": "stdout",
     "output_type": "stream",
     "text": [
      "2021-07-14\n"
     ]
    }
   ],
   "source": [
    "# criando uma variavel data \n",
    "data = datetime.date(2021,7,14)\n",
    "print(data)"
   ]
  },
  {
   "cell_type": "markdown",
   "metadata": {},
   "source": [
    "## Alterando a formatação da data"
   ]
  },
  {
   "cell_type": "markdown",
   "metadata": {},
   "source": [
    "### ctime():"
   ]
  },
  {
   "cell_type": "code",
   "execution_count": 4,
   "metadata": {},
   "outputs": [
    {
     "name": "stdout",
     "output_type": "stream",
     "text": [
      "Wed Jul 14 00:00:00 2021\n"
     ]
    }
   ],
   "source": [
    "print(data.ctime())"
   ]
  },
  {
   "cell_type": "markdown",
   "metadata": {},
   "source": [
    "### Acessando uma informação:"
   ]
  },
  {
   "cell_type": "code",
   "execution_count": 5,
   "metadata": {},
   "outputs": [
    {
     "name": "stdout",
     "output_type": "stream",
     "text": [
      "14 7 2021\n"
     ]
    }
   ],
   "source": [
    "# atribuindo variaveis a data\n",
    "dia = data.day\n",
    "mes = data.month\n",
    "ano = data.year\n",
    "\n",
    "print(dia,mes,ano)"
   ]
  },
  {
   "cell_type": "markdown",
   "metadata": {},
   "source": [
    "### Alterando uma informação:"
   ]
  },
  {
   "cell_type": "code",
   "execution_count": 10,
   "metadata": {},
   "outputs": [
    {
     "name": "stdout",
     "output_type": "stream",
     "text": [
      "2021-07-14 2021-07-03\n"
     ]
    }
   ],
   "source": [
    "nova_data = data.replace(day=3)\n",
    "\n",
    "print(data, nova_data)"
   ]
  },
  {
   "cell_type": "markdown",
   "metadata": {},
   "source": [
    "### Pegando o dia de hoje -- datetime.date.today()"
   ]
  },
  {
   "cell_type": "code",
   "execution_count": 12,
   "metadata": {},
   "outputs": [
    {
     "name": "stdout",
     "output_type": "stream",
     "text": [
      "2022-03-15\n"
     ]
    }
   ],
   "source": [
    "hoje = datetime.date.today()\n",
    "\n",
    "print(hoje)"
   ]
  },
  {
   "cell_type": "markdown",
   "metadata": {},
   "source": [
    "### Fazendo operações com datas:"
   ]
  },
  {
   "cell_type": "code",
   "execution_count": 13,
   "metadata": {},
   "outputs": [
    {
     "name": "stdout",
     "output_type": "stream",
     "text": [
      "244 days, 0:00:00\n"
     ]
    }
   ],
   "source": [
    "delta = hoje - data\n",
    "print(delta)"
   ]
  },
  {
   "cell_type": "code",
   "execution_count": 15,
   "metadata": {},
   "outputs": [
    {
     "name": "stdout",
     "output_type": "stream",
     "text": [
      "2022-11-14\n"
     ]
    }
   ],
   "source": [
    "data_futuro = hoje + delta\n",
    "print(data_futuro)"
   ]
  },
  {
   "cell_type": "markdown",
   "metadata": {},
   "source": [
    "## datetime.time:"
   ]
  },
  {
   "cell_type": "code",
   "execution_count": 16,
   "metadata": {},
   "outputs": [
    {
     "name": "stdout",
     "output_type": "stream",
     "text": [
      "12:45:23\n"
     ]
    }
   ],
   "source": [
    "# criando uma variavel hora\n",
    "hora = datetime.time(12,45,23)\n",
    "print(hora)"
   ]
  },
  {
   "cell_type": "markdown",
   "metadata": {},
   "source": [
    "### Acessando uma informação:"
   ]
  },
  {
   "cell_type": "code",
   "execution_count": 18,
   "metadata": {},
   "outputs": [
    {
     "name": "stdout",
     "output_type": "stream",
     "text": [
      "12\n",
      "45\n",
      "23\n"
     ]
    }
   ],
   "source": [
    "print(hora.hour)\n",
    "print(hora.minute)\n",
    "print(hora.second)"
   ]
  },
  {
   "cell_type": "markdown",
   "metadata": {},
   "source": [
    "## datetime.datetime:"
   ]
  },
  {
   "cell_type": "code",
   "execution_count": 19,
   "metadata": {},
   "outputs": [
    {
     "name": "stdout",
     "output_type": "stream",
     "text": [
      "2021-04-14 07:18:59\n"
     ]
    }
   ],
   "source": [
    "# criando variavel data e tempo\n",
    "datatempo = datetime.datetime(2021,4,14,7,18,59)\n",
    "print(datatempo)"
   ]
  },
  {
   "cell_type": "markdown",
   "metadata": {},
   "source": [
    "## Pegando o momento exato -- datetime.datetime.now()"
   ]
  },
  {
   "cell_type": "code",
   "execution_count": 20,
   "metadata": {},
   "outputs": [
    {
     "name": "stdout",
     "output_type": "stream",
     "text": [
      "2022-03-15 10:16:50.452304\n"
     ]
    }
   ],
   "source": [
    "agora = datetime.datetime.now()\n",
    "print(agora)"
   ]
  },
  {
   "cell_type": "markdown",
   "metadata": {},
   "source": [
    "### Altera o texto de exibição da data de um formato \"datetime\" para uma srting -- strftime():\n",
    "Link: https://docs.python.org/3/library/datetime.html#strftime-strptime-behavior"
   ]
  },
  {
   "cell_type": "code",
   "execution_count": 24,
   "metadata": {
    "scrolled": true
   },
   "outputs": [
    {
     "name": "stdout",
     "output_type": "stream",
     "text": [
      "03/15/2022 10:16\n"
     ]
    }
   ],
   "source": [
    "agora_string = agora.strftime('%m/%d/%Y %H:%M')\n",
    "\n",
    "print(agora_string)"
   ]
  },
  {
   "cell_type": "markdown",
   "metadata": {},
   "source": [
    "### Altera o texto de exibição da data de uma string para um formato \"datetime\"-- strptime():\n",
    "Link: https://docs.python.org/3/library/datetime.html#strftime-strptime-behavior"
   ]
  },
  {
   "cell_type": "code",
   "execution_count": 26,
   "metadata": {},
   "outputs": [
    {
     "name": "stdout",
     "output_type": "stream",
     "text": [
      "2022-03-15 10:16:00\n"
     ]
    }
   ],
   "source": [
    "agora_padrao = datetime.datetime.strptime(agora_string, '%m/%d/%Y %H:%M')\n",
    "print(agora_padrao)"
   ]
  },
  {
   "cell_type": "markdown",
   "metadata": {},
   "source": [
    "## Aplicação - Registro (logs) de atualizações ou operações:"
   ]
  },
  {
   "cell_type": "code",
   "execution_count": 30,
   "metadata": {},
   "outputs": [
    {
     "name": "stdout",
     "output_type": "stream",
     "text": [
      "Insira seu comentário: da\n",
      "Insira seu comentário: d\n",
      "Insira seu comentário: as\n",
      "Insira seu comentário: ee\n",
      "Insira seu comentário: \n",
      "('da', '15/03/2022 10:32')\n",
      "('d', '15/03/2022 10:32')\n",
      "('as', '15/03/2022 10:32')\n",
      "('ee', '15/03/2022 10:32')\n"
     ]
    }
   ],
   "source": [
    "comentarios = []\n",
    "\n",
    "comentario = None\n",
    "\n",
    "while comentario!=\"\":\n",
    "    comentario = input('Insira seu comentário: ')\n",
    "    data_public = datetime.datetime.now()\n",
    "    data_public_str = data_public.strftime('%d/%m/%Y %H:%M')\n",
    "    comentarios.append((comentario, data_public_str))\n",
    "\n",
    "for comentario in comentarios[:-1]:\n",
    "    print(comentario)\n",
    "    "
   ]
  }
 ],
 "metadata": {
  "kernelspec": {
   "display_name": "Python 3 (ipykernel)",
   "language": "python",
   "name": "python3"
  },
  "language_info": {
   "codemirror_mode": {
    "name": "ipython",
    "version": 3
   },
   "file_extension": ".py",
   "mimetype": "text/x-python",
   "name": "python",
   "nbconvert_exporter": "python",
   "pygments_lexer": "ipython3",
   "version": "3.9.7"
  }
 },
 "nbformat": 4,
 "nbformat_minor": 4
}
